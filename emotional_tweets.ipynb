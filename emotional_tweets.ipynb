{
 "cells": [
  {
   "cell_type": "code",
   "execution_count": 1,
   "metadata": {},
   "outputs": [],
   "source": [
    "import nltk\n",
    "import pandas as pd\n",
    "import numpy as np\n",
    "import seaborn as sns\n",
    "import regex\n",
    "from sklearn.feature_extraction.text import CountVectorizer, TfidfVectorizer\n",
    "from nltk.tokenize import TweetTokenizer\n",
    "from pycontractions import Contractions "
   ]
  },
  {
   "cell_type": "code",
   "execution_count": 2,
   "metadata": {},
   "outputs": [],
   "source": [
    "train_data = pd.read_csv('train.csv')"
   ]
  },
  {
   "cell_type": "code",
   "execution_count": 3,
   "metadata": {},
   "outputs": [],
   "source": [
    "test_data = pd.read_csv('test.csv', dtype={'Id':str,'Tweet':str})"
   ]
  },
  {
   "cell_type": "code",
   "execution_count": 4,
   "metadata": {},
   "outputs": [],
   "source": [
    "cat_mapping = {'negative':0, 'neutral':1, 'positive':2}\n",
    "reverse_cat_mapping = {0:'negative', 1:'neutral', 2:'positive'}"
   ]
  },
  {
   "cell_type": "code",
   "execution_count": 5,
   "metadata": {},
   "outputs": [],
   "source": [
    "pd.set_option('display.max_colwidth', None)\n",
    "pd.set_option('display.max_rows', 200)"
   ]
  },
  {
   "cell_type": "code",
   "execution_count": 6,
   "metadata": {},
   "outputs": [
    {
     "data": {
      "text/plain": [
       "(5970, 3)"
      ]
     },
     "execution_count": 6,
     "metadata": {},
     "output_type": "execute_result"
    }
   ],
   "source": [
    "train_data.shape"
   ]
  },
  {
   "cell_type": "code",
   "execution_count": 7,
   "metadata": {},
   "outputs": [
    {
     "data": {
      "text/plain": [
       "(9968, 2)"
      ]
     },
     "execution_count": 7,
     "metadata": {},
     "output_type": "execute_result"
    }
   ],
   "source": [
    "test_data.shape"
   ]
  },
  {
   "cell_type": "markdown",
   "metadata": {},
   "source": [
    "Liczba wartości pustych NaN w zbiorach"
   ]
  },
  {
   "cell_type": "code",
   "execution_count": 8,
   "metadata": {},
   "outputs": [
    {
     "data": {
      "text/plain": [
       "0"
      ]
     },
     "execution_count": 8,
     "metadata": {},
     "output_type": "execute_result"
    }
   ],
   "source": [
    "train_data['Tweet'].isna().sum()"
   ]
  },
  {
   "cell_type": "code",
   "execution_count": 9,
   "metadata": {},
   "outputs": [
    {
     "data": {
      "text/plain": [
       "5968"
      ]
     },
     "execution_count": 9,
     "metadata": {},
     "output_type": "execute_result"
    }
   ],
   "source": [
    "test_data['Tweet'].isna().sum()"
   ]
  },
  {
   "cell_type": "markdown",
   "metadata": {},
   "source": [
    "Liczba wartości pustych tweeta \"Not Available\""
   ]
  },
  {
   "cell_type": "code",
   "execution_count": 10,
   "metadata": {},
   "outputs": [
    {
     "data": {
      "text/plain": [
       "(548, 3)"
      ]
     },
     "execution_count": 10,
     "metadata": {},
     "output_type": "execute_result"
    }
   ],
   "source": [
    "train_data[train_data['Tweet'] == 'Not Available'].shape"
   ]
  },
  {
   "cell_type": "code",
   "execution_count": 11,
   "metadata": {},
   "outputs": [
    {
     "data": {
      "text/plain": [
       "(360, 2)"
      ]
     },
     "execution_count": 11,
     "metadata": {},
     "output_type": "execute_result"
    }
   ],
   "source": [
    "test_data[test_data['Tweet'] == 'Not Available'].shape"
   ]
  },
  {
   "cell_type": "markdown",
   "metadata": {},
   "source": [
    "Przykład pozytywnego tweeta ze smutnym emotikonem "
   ]
  },
  {
   "cell_type": "code",
   "execution_count": 12,
   "metadata": {},
   "outputs": [
    {
     "data": {
      "text/plain": [
       "Id                                                                                                              641103045087113216\n",
       "Category                                                                                                                  positive\n",
       "Tweet       @ayelacey I loved it! I didnt wanna come back haha. Spending Saturday on Venice Beach and now back in this cold lol :(\n",
       "Name: 5668, dtype: object"
      ]
     },
     "execution_count": 12,
     "metadata": {},
     "output_type": "execute_result"
    }
   ],
   "source": [
    "train_data.iloc[5668]"
   ]
  },
  {
   "cell_type": "markdown",
   "metadata": {},
   "source": [
    "Ekspresyjne tweety, zawierające znaki \"?\" oraz \"!\""
   ]
  },
  {
   "cell_type": "code",
   "execution_count": 13,
   "metadata": {},
   "outputs": [
    {
     "data": {
      "text/html": [
       "<div>\n",
       "<style scoped>\n",
       "    .dataframe tbody tr th:only-of-type {\n",
       "        vertical-align: middle;\n",
       "    }\n",
       "\n",
       "    .dataframe tbody tr th {\n",
       "        vertical-align: top;\n",
       "    }\n",
       "\n",
       "    .dataframe thead th {\n",
       "        text-align: right;\n",
       "    }\n",
       "</style>\n",
       "<table border=\"1\" class=\"dataframe\">\n",
       "  <thead>\n",
       "    <tr style=\"text-align: right;\">\n",
       "      <th></th>\n",
       "      <th>Id</th>\n",
       "      <th>Category</th>\n",
       "      <th>Tweet</th>\n",
       "    </tr>\n",
       "  </thead>\n",
       "  <tbody>\n",
       "    <tr>\n",
       "      <th>281</th>\n",
       "      <td>641644400880148480</td>\n",
       "      <td>positive</td>\n",
       "      <td>Minutes aways for the unvieling of iphone6splus or is it going to be Iphone 7??????!?!?!?!? http://t.co/fRltFMjkCK</td>\n",
       "    </tr>\n",
       "    <tr>\n",
       "      <th>848</th>\n",
       "      <td>636243185342136320</td>\n",
       "      <td>positive</td>\n",
       "      <td>Jurassic World is back in @IMAX theaters for one week starting Friday! Who's going?!</td>\n",
       "    </tr>\n",
       "    <tr>\n",
       "      <th>1478</th>\n",
       "      <td>640357745984602112</td>\n",
       "      <td>negative</td>\n",
       "      <td>When your friend gets a Lexus for her 15th birthday and you can't even afford a taco from the taco truck!??!!</td>\n",
       "    </tr>\n",
       "    <tr>\n",
       "      <th>1560</th>\n",
       "      <td>641220766877511680</td>\n",
       "      <td>positive</td>\n",
       "      <td>Just one more day to go -&amp;gt;&amp;gt; Madonna's Rebel Heart Tour starts tomorrow. What to expect?! http://t.co/OXCAc47pTi</td>\n",
       "    </tr>\n",
       "    <tr>\n",
       "      <th>1815</th>\n",
       "      <td>640455441403768834</td>\n",
       "      <td>neutral</td>\n",
       "      <td>Sunday Supplement. Is Bale in the same class as Messi and Ronaldo?! \"He's knocking on the door\" don't make me laugh. Over hyped as always</td>\n",
       "    </tr>\n",
       "    <tr>\n",
       "      <th>1817</th>\n",
       "      <td>640477752961986560</td>\n",
       "      <td>positive</td>\n",
       "      <td>Nice to be in the @guardian_sport YouTube round up. Mine is the last link - Messi is the headline. Surely a mix-up?! http://t.co/KheYatUISH</td>\n",
       "    </tr>\n",
       "    <tr>\n",
       "      <th>1860</th>\n",
       "      <td>641469128990191616</td>\n",
       "      <td>positive</td>\n",
       "      <td>And Argentina say Messi does nothing for the national team??! That goal was just magical Messi time as usual, c'mon! XD</td>\n",
       "    </tr>\n",
       "    <tr>\n",
       "      <th>2129</th>\n",
       "      <td>627603448981258240</td>\n",
       "      <td>positive</td>\n",
       "      <td>@Anomaly100 @marpeesh @HMiglino @TeaPainUSA No wonder you think Michelle Obama may be attractive?!?</td>\n",
       "    </tr>\n",
       "    <tr>\n",
       "      <th>2552</th>\n",
       "      <td>641208536333189120</td>\n",
       "      <td>neutral</td>\n",
       "      <td>Seriously can things just go right in my day?! Turns out the Nike run is tomorrow</td>\n",
       "    </tr>\n",
       "    <tr>\n",
       "      <th>2579</th>\n",
       "      <td>641625453795651584</td>\n",
       "      <td>negative</td>\n",
       "      <td>White girls be so annoying with accessories, why you wearing a striped sun dress with a Nike hat and coach bag???!</td>\n",
       "    </tr>\n",
       "    <tr>\n",
       "      <th>3342</th>\n",
       "      <td>635619068234629121</td>\n",
       "      <td>neutral</td>\n",
       "      <td>Title for Title match, winner take all, will it be Seth Rollins or will John Cena become 16th time World Champ &amp;amp; tie Ric Flair?! #SummerSlam</td>\n",
       "    </tr>\n",
       "    <tr>\n",
       "      <th>3395</th>\n",
       "      <td>631443056064135168</td>\n",
       "      <td>neutral</td>\n",
       "      <td>So only the independently wealthy?!? Rick Perry's campaign staff is working for free 99. #SkimmLife http://t.co/abrgkGDs7I via @theSkimm</td>\n",
       "    </tr>\n",
       "    <tr>\n",
       "      <th>3669</th>\n",
       "      <td>641442574738194432</td>\n",
       "      <td>neutral</td>\n",
       "      <td>@GovMikeHuckabee WAIT WHAT?!?! SCOTUS makes laws!?!? since when? have i been lied to my entire 8th grade year about gov? (sarcasm intended)</td>\n",
       "    </tr>\n",
       "    <tr>\n",
       "      <th>3981</th>\n",
       "      <td>637807521500020737</td>\n",
       "      <td>negative</td>\n",
       "      <td>@AskPlayStation Why won't u guys help me out?! Im calling Sony tomorrow! I want help but the \"support team\" 3 hours of tweeting and nothing</td>\n",
       "    </tr>\n",
       "    <tr>\n",
       "      <th>4145</th>\n",
       "      <td>641354519209644033</td>\n",
       "      <td>negative</td>\n",
       "      <td>@alexkidwell I give zero shits about Star Wars, and I'm only mildly excited by Bond films. Will I be seeing you on RHAP tomorrow?!</td>\n",
       "    </tr>\n",
       "    <tr>\n",
       "      <th>4152</th>\n",
       "      <td>641411331699027968</td>\n",
       "      <td>positive</td>\n",
       "      <td>\"Did you know Star Wars is coming out with a new movie in December?!?!\" - third grade boy</td>\n",
       "    </tr>\n",
       "    <tr>\n",
       "      <th>4628</th>\n",
       "      <td>638864466499792896</td>\n",
       "      <td>positive</td>\n",
       "      <td>Can January just hurry up already?! I need TEEN WOLF NOW! @MTVteenwolf</td>\n",
       "    </tr>\n",
       "    <tr>\n",
       "      <th>4639</th>\n",
       "      <td>639464019485687808</td>\n",
       "      <td>positive</td>\n",
       "      <td>Can it be December already?!! If you're a Teen Wolf fan I'm sure u don't want to miss this! #HOW2015 #TeenWolf http://t.co/fELHj8LCtU</td>\n",
       "    </tr>\n",
       "    <tr>\n",
       "      <th>4820</th>\n",
       "      <td>635555415531618306</td>\n",
       "      <td>positive</td>\n",
       "      <td>@TwSpot Back nine Sunday...Red shirt...Tiger Woods.  How good can it get?!?  ...Add in @TWSpot!  #NowWereTalkin</td>\n",
       "    </tr>\n",
       "    <tr>\n",
       "      <th>4913</th>\n",
       "      <td>635280958200147969</td>\n",
       "      <td>neutral</td>\n",
       "      <td>@WorldDamian is the 2nd one Tom cruise in mission impossible?!</td>\n",
       "    </tr>\n",
       "    <tr>\n",
       "      <th>5454</th>\n",
       "      <td>639598393560461312</td>\n",
       "      <td>negative</td>\n",
       "      <td>Valentine?!...it ain't even close to February yet...</td>\n",
       "    </tr>\n",
       "  </tbody>\n",
       "</table>\n",
       "</div>"
      ],
      "text/plain": [
       "                      Id  Category  \\\n",
       "281   641644400880148480  positive   \n",
       "848   636243185342136320  positive   \n",
       "1478  640357745984602112  negative   \n",
       "1560  641220766877511680  positive   \n",
       "1815  640455441403768834   neutral   \n",
       "1817  640477752961986560  positive   \n",
       "1860  641469128990191616  positive   \n",
       "2129  627603448981258240  positive   \n",
       "2552  641208536333189120   neutral   \n",
       "2579  641625453795651584  negative   \n",
       "3342  635619068234629121   neutral   \n",
       "3395  631443056064135168   neutral   \n",
       "3669  641442574738194432   neutral   \n",
       "3981  637807521500020737  negative   \n",
       "4145  641354519209644033  negative   \n",
       "4152  641411331699027968  positive   \n",
       "4628  638864466499792896  positive   \n",
       "4639  639464019485687808  positive   \n",
       "4820  635555415531618306  positive   \n",
       "4913  635280958200147969   neutral   \n",
       "5454  639598393560461312  negative   \n",
       "\n",
       "                                                                                                                                                 Tweet  \n",
       "281                                 Minutes aways for the unvieling of iphone6splus or is it going to be Iphone 7??????!?!?!?!? http://t.co/fRltFMjkCK  \n",
       "848                                                               Jurassic World is back in @IMAX theaters for one week starting Friday! Who's going?!  \n",
       "1478                                     When your friend gets a Lexus for her 15th birthday and you can't even afford a taco from the taco truck!??!!  \n",
       "1560                             Just one more day to go -&gt;&gt; Madonna's Rebel Heart Tour starts tomorrow. What to expect?! http://t.co/OXCAc47pTi  \n",
       "1815         Sunday Supplement. Is Bale in the same class as Messi and Ronaldo?! \"He's knocking on the door\" don't make me laugh. Over hyped as always  \n",
       "1817       Nice to be in the @guardian_sport YouTube round up. Mine is the last link - Messi is the headline. Surely a mix-up?! http://t.co/KheYatUISH  \n",
       "1860                           And Argentina say Messi does nothing for the national team??! That goal was just magical Messi time as usual, c'mon! XD  \n",
       "2129                                               @Anomaly100 @marpeesh @HMiglino @TeaPainUSA No wonder you think Michelle Obama may be attractive?!?  \n",
       "2552                                                                 Seriously can things just go right in my day?! Turns out the Nike run is tomorrow  \n",
       "2579                                White girls be so annoying with accessories, why you wearing a striped sun dress with a Nike hat and coach bag???!  \n",
       "3342  Title for Title match, winner take all, will it be Seth Rollins or will John Cena become 16th time World Champ &amp; tie Ric Flair?! #SummerSlam  \n",
       "3395          So only the independently wealthy?!? Rick Perry's campaign staff is working for free 99. #SkimmLife http://t.co/abrgkGDs7I via @theSkimm  \n",
       "3669       @GovMikeHuckabee WAIT WHAT?!?! SCOTUS makes laws!?!? since when? have i been lied to my entire 8th grade year about gov? (sarcasm intended)  \n",
       "3981       @AskPlayStation Why won't u guys help me out?! Im calling Sony tomorrow! I want help but the \"support team\" 3 hours of tweeting and nothing  \n",
       "4145                @alexkidwell I give zero shits about Star Wars, and I'm only mildly excited by Bond films. Will I be seeing you on RHAP tomorrow?!  \n",
       "4152                                                         \"Did you know Star Wars is coming out with a new movie in December?!?!\" - third grade boy  \n",
       "4628                                                                            Can January just hurry up already?! I need TEEN WOLF NOW! @MTVteenwolf  \n",
       "4639             Can it be December already?!! If you're a Teen Wolf fan I'm sure u don't want to miss this! #HOW2015 #TeenWolf http://t.co/fELHj8LCtU  \n",
       "4820                                   @TwSpot Back nine Sunday...Red shirt...Tiger Woods.  How good can it get?!?  ...Add in @TWSpot!  #NowWereTalkin  \n",
       "4913                                                                                    @WorldDamian is the 2nd one Tom cruise in mission impossible?!  \n",
       "5454                                                                                              Valentine?!...it ain't even close to February yet...  "
      ]
     },
     "execution_count": 13,
     "metadata": {},
     "output_type": "execute_result"
    }
   ],
   "source": [
    "train_data[train_data['Tweet'].str.contains('\\?\\!')]"
   ]
  },
  {
   "cell_type": "markdown",
   "metadata": {},
   "source": [
    "Kategorie tweetów w zbiorze treningowym"
   ]
  },
  {
   "cell_type": "code",
   "execution_count": 14,
   "metadata": {},
   "outputs": [
    {
     "data": {
      "text/plain": [
       "positive    2888\n",
       "neutral     2125\n",
       "negative     956\n",
       "Tweet          1\n",
       "Name: Category, dtype: int64"
      ]
     },
     "execution_count": 14,
     "metadata": {},
     "output_type": "execute_result"
    }
   ],
   "source": [
    "train_data['Category'].value_counts()"
   ]
  },
  {
   "cell_type": "markdown",
   "metadata": {},
   "source": [
    "Kategorie tweetów z wartościami pustymi"
   ]
  },
  {
   "cell_type": "code",
   "execution_count": 15,
   "metadata": {},
   "outputs": [
    {
     "data": {
      "text/plain": [
       "positive    289\n",
       "neutral     172\n",
       "negative     87\n",
       "Name: Category, dtype: int64"
      ]
     },
     "execution_count": 15,
     "metadata": {},
     "output_type": "execute_result"
    }
   ],
   "source": [
    "train_data[train_data['Tweet'] == 'Not Available']['Category'].value_counts()"
   ]
  },
  {
   "cell_type": "markdown",
   "metadata": {},
   "source": [
    "Rodzaje Tweetów, około 10% pustych wartości"
   ]
  },
  {
   "cell_type": "code",
   "execution_count": 16,
   "metadata": {},
   "outputs": [
    {
     "data": {
      "text/plain": [
       "Not Available                                                                                                                                   0.091792\n",
       "@pperrin @nellesapelle Very wise. Hard to see UKIP going any further tho. Lab &amp; Tory split may open up new space like you said.             0.000335\n",
       "Skimmed it  May not LIKE the SCOTUS decision but it's THE LAW. No offense, but your Pope? Climate Change? seriously? https://t.co/xg2ErQjdvH    0.000335\n",
       "I really hope that Obama attends Serena's match on Saturday...Ciara's doing the National Anthem. Give us deze ratings biches.                   0.000335\n",
       "Finishing Jurassic park for like the 100th time tomorrow. Film class is gonna have a lot of reruns for me. All the batman films, Star Wars..    0.000335\n",
       "                                                                                                                                                  ...   \n",
       "I was 8 turning 9 in the 4th grade when I started to support Justin. Now Im a freshman in highschool still loving him to this day Time flies    0.000168\n",
       "These Planned Parenthood commercials are beautiful b/c they inform the public that they are so much more than what many may think to be true    0.000168\n",
       "@Flyergirl88 Yup the store by even has a signing with Snoop Dogg coming up http://t.co/6kBC3JOiDK                                               0.000168\n",
       "@Megaroooo scroll down for \"egg person of the year\" photographed with barack and michelle obama: http://t.co/pPFbR7qdtR                         0.000168\n",
       "Going to read some of the next book, Smuggler's Run, before going to sleep. I may be reading too much Star Wars...                              0.000168\n",
       "Name: Tweet, Length: 5418, dtype: float64"
      ]
     },
     "execution_count": 16,
     "metadata": {},
     "output_type": "execute_result"
    }
   ],
   "source": [
    "train_data['Tweet'].value_counts(True)"
   ]
  },
  {
   "cell_type": "markdown",
   "metadata": {},
   "source": [
    "Wzorce do używane do przeszukiwania i analizy zbioru (hashtag, emoji, ampersand, małpa, link url)"
   ]
  },
  {
   "cell_type": "code",
   "execution_count": 17,
   "metadata": {},
   "outputs": [],
   "source": [
    "emoji_pattern = r':[\\(\\)3\\|]|=[/\\(\\)3\\|]|[Xx][Dd]'#r'&lt;3|:\\(|:\\)|;\\(|;\\)'"
   ]
  },
  {
   "cell_type": "code",
   "execution_count": 18,
   "metadata": {},
   "outputs": [],
   "source": [
    "ampersand_pattern = r'&\\w+;'"
   ]
  },
  {
   "cell_type": "code",
   "execution_count": 19,
   "metadata": {},
   "outputs": [],
   "source": [
    "hashtag_pattern = r'#\\w+\\b'"
   ]
  },
  {
   "cell_type": "code",
   "execution_count": 20,
   "metadata": {},
   "outputs": [],
   "source": [
    "at_pattern = r'@\\w+\\b'"
   ]
  },
  {
   "cell_type": "code",
   "execution_count": 21,
   "metadata": {},
   "outputs": [],
   "source": [
    "link_pattern = r'\\b\\w+://\\w+.\\w+/\\w+\\b'"
   ]
  },
  {
   "cell_type": "markdown",
   "metadata": {},
   "source": [
    "Funkcja zwracająca znalezione dopasowania do wzorca, wraz sentymentem oraz Id tweeta"
   ]
  },
  {
   "cell_type": "code",
   "execution_count": 22,
   "metadata": {},
   "outputs": [],
   "source": [
    "def positive_finds(pattern):\n",
    "    return [(i,cat,idx) for i, cat,idx in [(regex.findall(pattern,item['Tweet']), item['Category'], idx) for idx,item in train_data.iterrows()] if i]"
   ]
  },
  {
   "cell_type": "code",
   "execution_count": 23,
   "metadata": {},
   "outputs": [
    {
     "data": {
      "text/plain": [
       "[([':)'], 'positive', 30),\n",
       " (['xd'], 'neutral', 32),\n",
       " (['Xd'], 'positive', 52),\n",
       " (['=)'], 'positive', 87),\n",
       " ([':('], 'negative', 91),\n",
       " ([':3'], 'positive', 111),\n",
       " ([':)', ':)', ':)', ':)', ':)', ':)'], 'negative', 133),\n",
       " ([':('], 'neutral', 167),\n",
       " ([':)'], 'positive', 200),\n",
       " (['xD'], 'positive', 287)]"
      ]
     },
     "execution_count": 23,
     "metadata": {},
     "output_type": "execute_result"
    }
   ],
   "source": [
    "positive_finds(emoji_pattern)[:10]"
   ]
  },
  {
   "cell_type": "code",
   "execution_count": 24,
   "metadata": {},
   "outputs": [
    {
     "data": {
      "text/plain": [
       "[(['http://t.co/fmtcfUAdgj'], 'neutral', 1),\n",
       " (['http://t.co/gl3tn2uDnD'], 'neutral', 2),\n",
       " (['http://t.co/KPqqGjjh3x'], 'positive', 4),\n",
       " (['http://t.co/BNMFOEACw5'], 'neutral', 5),\n",
       " (['https://t.co/eZhIU6EDpQ'], 'neutral', 6),\n",
       " (['http://t.co/qbhyA3kaWP'], 'neutral', 7),\n",
       " (['http://t.co/yZOATToeJC'], 'neutral', 8),\n",
       " (['http://t.co/ZyOFhZeRIO'], 'positive', 10),\n",
       " (['http://t.co/Kf8DgnHX9b'], 'positive', 11),\n",
       " (['http://t.co/pUWsKbDfWe'], 'positive', 12)]"
      ]
     },
     "execution_count": 24,
     "metadata": {},
     "output_type": "execute_result"
    }
   ],
   "source": [
    "positive_finds(link_pattern)[:10]"
   ]
  },
  {
   "cell_type": "code",
   "execution_count": 25,
   "metadata": {},
   "outputs": [],
   "source": [
    "def get_glove_embeddings():\n",
    "    glove_dict = {}\n",
    "    glove_path = 'glove.twitter.27B.200d.txt'\n",
    "    with open(glove_path,'r', errors='ignore') as glove_file:\n",
    "        for line in glove_file:\n",
    "            word, embedding_values = parse_line(line)\n",
    "            glove_dict[word] = np.array(embedding_values, dtype=np.float32)\n",
    "    return glove_dict\n",
    "\n",
    "def parse_line(line):\n",
    "    word, *embedding_values = line.split(' ')\n",
    "    return word, embedding_values"
   ]
  },
  {
   "cell_type": "code",
   "execution_count": 26,
   "metadata": {},
   "outputs": [],
   "source": [
    "glove_dict = get_glove_embeddings()"
   ]
  },
  {
   "cell_type": "code",
   "execution_count": 27,
   "metadata": {},
   "outputs": [
    {
     "data": {
      "text/plain": [
       "(200,)"
      ]
     },
     "execution_count": 27,
     "metadata": {},
     "output_type": "execute_result"
    }
   ],
   "source": [
    "glove_dict['awesome'].shape"
   ]
  },
  {
   "cell_type": "code",
   "execution_count": 28,
   "metadata": {},
   "outputs": [
    {
     "data": {
      "text/plain": [
       "1182364"
      ]
     },
     "execution_count": 28,
     "metadata": {},
     "output_type": "execute_result"
    }
   ],
   "source": [
    "len(glove_dict.keys())"
   ]
  },
  {
   "cell_type": "markdown",
   "metadata": {},
   "source": [
    "Adaptacja skryptu w Ruby, parsującego tekst na potrzeby Twitter Glove\n",
    "https://www.kaggle.com/amackcrane/python-version-of-glove-twitter-preprocess-script\n",
    "Rozszerzona o parsowanie \"<\", \">\", \"&\", czyli znaków escapowanych w dostępnym zbiorze"
   ]
  },
  {
   "cell_type": "code",
   "execution_count": 29,
   "metadata": {},
   "outputs": [],
   "source": [
    "import regex as re\n",
    "\n",
    "FLAGS = re.MULTILINE | re.DOTALL\n",
    "\n",
    "def hashtag(text):\n",
    "    text = text.group()\n",
    "    hashtag_body = text[1:]\n",
    "    if hashtag_body.isupper():\n",
    "        result = \"<hashtag> {} <allcaps>\".format(hashtag_body.lower())\n",
    "    else:\n",
    "        result = \" \".join([\"<hashtag>\"] + re.split(r\"(?=[A-Z])\", hashtag_body, flags=FLAGS))\n",
    "    return result\n",
    "\n",
    "def allcaps(text):\n",
    "    text = text.group()\n",
    "    return text.lower() + \" <allcaps> \"\n",
    "\n",
    "\n",
    "def twitter_tokenizer(text):\n",
    "    eyes = r\"[8:=;]\"\n",
    "    nose = r\"['`\\-]?\"\n",
    "\n",
    "    def re_sub(pattern, repl):\n",
    "        return re.sub(pattern, repl, text, flags=FLAGS)\n",
    "\n",
    "    text = re_sub(r'&amp;',r'&')\n",
    "    text = re_sub(r'&lt;',r'<')\n",
    "    text = re_sub(r'&gt;',r'>')\n",
    "\n",
    "    text = re_sub(r\"https?:\\/\\/\\S+\\b|www\\.(\\w+\\.)+\\S*\", \" <url> \")\n",
    "    text = re_sub(r\"@\\w+\", \" <user> \")\n",
    "    text = re_sub(r\"{}{}[)dD]+|[)dD]+{}{}\".format(eyes, nose, nose, eyes), \" <smile> \")\n",
    "    text = re_sub(r\"{}{}p+\".format(eyes, nose), \" <lolface> \")\n",
    "    text = re_sub(r\"{}{}\\(+|\\)+{}{}\".format(eyes, nose, nose, eyes), \" <sadface> \")\n",
    "    text = re_sub(r\"{}{}[\\/|l*]\".format(eyes, nose), \" <neutralface> \")\n",
    "    text = re_sub(r\"/\",\" / \")\n",
    "    text = re_sub(r\"<3\",\" <heart> \")\n",
    "    text = re_sub(r\"[-+]?[.\\d]*[\\d]+[:,.\\d]*\", \" <number> \")\n",
    "    text = re_sub(r\"#\\w+\", hashtag)\n",
    "    text = re_sub(r\"([!?.]){2,}\", r\"\\1 <repeat>\")\n",
    "    text = re_sub(r\"\\b(\\S*?)(.)\\2{2,}\\b\", r\"\\1\\2 <elong> \")\n",
    "    \n",
    "    text = re_sub(r\"([a-zA-Z<>()])([?!.:;,])\", r\"\\1 \\2\")\n",
    "    text = re_sub(r\"\\(([a-zA-Z<>]+)\\)\", r\"( \\1 )\")\n",
    "    text = re_sub(r\"  \", r\" \")\n",
    "    text = re_sub(r\" ([A-Z]){2,} \", allcaps)\n",
    "    \n",
    "    return text.lower()"
   ]
  },
  {
   "cell_type": "markdown",
   "metadata": {},
   "source": [
    "Tokenizer z biblioteki NLTK dopasowany do potrzeb danych z Twitter"
   ]
  },
  {
   "cell_type": "code",
   "execution_count": 30,
   "metadata": {},
   "outputs": [],
   "source": [
    "tweet_tokenizer = TweetTokenizer()"
   ]
  },
  {
   "cell_type": "code",
   "execution_count": 31,
   "metadata": {},
   "outputs": [],
   "source": [
    "all_tweets = pd.concat([train_data['Tweet'],test_data['Tweet'].dropna()])"
   ]
  },
  {
   "cell_type": "markdown",
   "metadata": {},
   "source": [
    "Rozkład oraz statystyki długości tweetów z obu zbiorów w znakach"
   ]
  },
  {
   "cell_type": "code",
   "execution_count": 32,
   "metadata": {},
   "outputs": [
    {
     "name": "stderr",
     "output_type": "stream",
     "text": [
      "c:\\users\\a\\appdata\\local\\programs\\python\\python36\\lib\\site-packages\\scipy\\stats\\stats.py:1713: FutureWarning: Using a non-tuple sequence for multidimensional indexing is deprecated; use `arr[tuple(seq)]` instead of `arr[seq]`. In the future this will be interpreted as an array index, `arr[np.array(seq)]`, which will result either in an error or a different result.\n",
      "  return np.add.reduce(sorted[indexer] * weights, axis=axis) / sumval\n"
     ]
    },
    {
     "data": {
      "text/plain": [
       "<matplotlib.axes._subplots.AxesSubplot at 0x251799a9be0>"
      ]
     },
     "execution_count": 32,
     "metadata": {},
     "output_type": "execute_result"
    },
    {
     "data": {
      "image/png": "[encoded data removed]",
      "text/plain": [
       "<Figure size 432x288 with 1 Axes>"
      ]
     },
     "metadata": {
      "needs_background": "light"
     },
     "output_type": "display_data"
    }
   ],
   "source": [
    "sns.distplot(all_tweets.str.len())"
   ]
  },
  {
   "cell_type": "code",
   "execution_count": 33,
   "metadata": {},
   "outputs": [
    {
     "data": {
      "text/plain": [
       "count    9970.000000\n",
       "mean      107.130291\n",
       "std        38.272575\n",
       "min         8.000000\n",
       "25%        90.000000\n",
       "50%       123.000000\n",
       "75%       136.000000\n",
       "max       191.000000\n",
       "Name: Tweet, dtype: float64"
      ]
     },
     "execution_count": 33,
     "metadata": {},
     "output_type": "execute_result"
    }
   ],
   "source": [
    "all_tweets.str.len().describe()"
   ]
  },
  {
   "cell_type": "markdown",
   "metadata": {},
   "source": [
    "Odfiltrowanie pustych Tweetów, błędnej kategorii Tweet oraz usunięcie wartości pustych"
   ]
  },
  {
   "cell_type": "code",
   "execution_count": 34,
   "metadata": {},
   "outputs": [],
   "source": [
    "def select_valid_tweets(df, train=True):\n",
    "    df = df[df['Tweet']!='Not Available']\n",
    "    if train:\n",
    "        df = df[df['Category']!='Tweet']\n",
    "    df = df.dropna()\n",
    "    return df"
   ]
  },
  {
   "cell_type": "markdown",
   "metadata": {},
   "source": [
    "Processor kontrakcji trenowany na zbiorze glove z Twittera"
   ]
  },
  {
   "cell_type": "code",
   "execution_count": 35,
   "metadata": {},
   "outputs": [],
   "source": [
    "contraction_processor = Contractions(api_key=\"glove-twitter-100\")"
   ]
  },
  {
   "cell_type": "markdown",
   "metadata": {},
   "source": [
    "Pipeline preprocessingu dla danych:\n",
    "    - Konwersja dataframe na listę Tweetów\n",
    "    - Parsowanie pod zbiór glove\n",
    "    - Rozszerzenie kontrakcji (np. we're -> we are)\n",
    "    - Tokenizacja"
   ]
  },
  {
   "cell_type": "code",
   "execution_count": 36,
   "metadata": {},
   "outputs": [],
   "source": [
    "def preprocess_dataset(df):\n",
    "    df_list = [item['Tweet']for _, item in df.iterrows()]\n",
    "    df_parsed = [twitter_tokenizer(tweet) for tweet in df_list]\n",
    "    df_expanded = list(contraction_processor.expand_texts(df_parsed,precise=True))\n",
    "    df_tokens = [tweet_tokenizer.tokenize(tweet) for tweet in df_expanded]\n",
    "    return df_tokens"
   ]
  },
  {
   "cell_type": "code",
   "execution_count": 37,
   "metadata": {},
   "outputs": [],
   "source": [
    "train_set = select_valid_tweets(train_data,True)"
   ]
  },
  {
   "cell_type": "code",
   "execution_count": 38,
   "metadata": {},
   "outputs": [
    {
     "data": {
      "text/plain": [
       "(5421, 3)"
      ]
     },
     "execution_count": 38,
     "metadata": {},
     "output_type": "execute_result"
    }
   ],
   "source": [
    "train_set.shape"
   ]
  },
  {
   "cell_type": "markdown",
   "metadata": {},
   "source": [
    "Wizualizacje poszczególnych kroków przetwarzania"
   ]
  },
  {
   "cell_type": "code",
   "execution_count": 39,
   "metadata": {},
   "outputs": [],
   "source": [
    "train_list = [item['Tweet']for _, item in train_set.iterrows()]"
   ]
  },
  {
   "cell_type": "code",
   "execution_count": 40,
   "metadata": {},
   "outputs": [
    {
     "data": {
      "text/plain": [
       "['IOS 9 App Transport Security. Mm need to check if my 3rd party network pod supports it http://t.co/fmtcfUAdgj',\n",
       " 'Mar if you have an iOS device, you should download our app too: http://t.co/gl3tn2uDnD',\n",
       " '@jimmie_vanagon my phone does not run on latest IOS which may account for problem the other day .. time it was replaced',\n",
       " \"Not sure how to start your publication on iOS? We'll be live helping with ask me anything sessions today and Friday http://t.co/KPqqGjjh3x\",\n",
       " 'Two Dollar Tuesday is here with Forklift 2, QuickKey for iOS and Suite for Pages for just $1.99 today:   http://t.co/BNMFOEACw5']"
      ]
     },
     "execution_count": 40,
     "metadata": {},
     "output_type": "execute_result"
    }
   ],
   "source": [
    "train_list[:5]"
   ]
  },
  {
   "cell_type": "code",
   "execution_count": 41,
   "metadata": {},
   "outputs": [],
   "source": [
    "train_parsed = [twitter_tokenizer(tweet) for tweet in train_list]"
   ]
  },
  {
   "cell_type": "code",
   "execution_count": 42,
   "metadata": {},
   "outputs": [
    {
     "data": {
      "text/plain": [
       "['ios <number> app transport security . mm need to check if my <number> rd party network pod supports it <url> ',\n",
       " 'mar if you have an ios device , you should download our app too : <url> ',\n",
       " ' <user> my phone does not run on latest ios  <allcaps> which may account for problem the other day . <repeat> time it was replaced',\n",
       " \"not sure how to start your publication on ios ? we'll be live helping with ask me anything sessions today and friday <url> \",\n",
       " 'two dollar tuesday is here with forklift <number> quickkey for ios and suite for pages for just $ <number> today :  <url> ']"
      ]
     },
     "execution_count": 42,
     "metadata": {},
     "output_type": "execute_result"
    }
   ],
   "source": [
    "train_parsed[:5]"
   ]
  },
  {
   "cell_type": "code",
   "execution_count": 43,
   "metadata": {},
   "outputs": [],
   "source": [
    "train_expanded = list(contraction_processor.expand_texts(train_parsed,precise=True))"
   ]
  },
  {
   "cell_type": "code",
   "execution_count": 44,
   "metadata": {},
   "outputs": [
    {
     "data": {
      "text/plain": [
       "['ios <number> app transport security . mm need to check if my <number> rd party network pod supports it <url> ',\n",
       " 'mar if you have an ios device , you should download our app too : <url> ',\n",
       " ' <user> my phone does not run on latest ios  <allcaps> which may account for problem the other day . <repeat> time it was replaced',\n",
       " 'not sure how to start your publication on ios ? we will be live helping with ask me anything sessions today and friday <url> ',\n",
       " 'two dollar tuesday is here with forklift <number> quickkey for ios and suite for pages for just $ <number> today :  <url> ']"
      ]
     },
     "execution_count": 44,
     "metadata": {},
     "output_type": "execute_result"
    }
   ],
   "source": [
    "train_expanded[:5]"
   ]
  },
  {
   "cell_type": "code",
   "execution_count": 45,
   "metadata": {},
   "outputs": [],
   "source": [
    "train_tokens = [tweet_tokenizer.tokenize(tweet) for tweet in train_expanded]"
   ]
  },
  {
   "cell_type": "code",
   "execution_count": 46,
   "metadata": {},
   "outputs": [],
   "source": [
    "train_tokens = preprocess_dataset(train_set)"
   ]
  },
  {
   "cell_type": "code",
   "execution_count": 47,
   "metadata": {},
   "outputs": [
    {
     "data": {
      "text/plain": [
       "[['ios',\n",
       "  '<number>',\n",
       "  'app',\n",
       "  'transport',\n",
       "  'security',\n",
       "  '.',\n",
       "  'mm',\n",
       "  'need',\n",
       "  'to',\n",
       "  'check',\n",
       "  'if',\n",
       "  'my',\n",
       "  '<number>',\n",
       "  'rd',\n",
       "  'party',\n",
       "  'network',\n",
       "  'pod',\n",
       "  'supports',\n",
       "  'it',\n",
       "  '<url>'],\n",
       " ['mar',\n",
       "  'if',\n",
       "  'you',\n",
       "  'have',\n",
       "  'an',\n",
       "  'ios',\n",
       "  'device',\n",
       "  ',',\n",
       "  'you',\n",
       "  'should',\n",
       "  'download',\n",
       "  'our',\n",
       "  'app',\n",
       "  'too',\n",
       "  ':',\n",
       "  '<url>']]"
      ]
     },
     "execution_count": 47,
     "metadata": {},
     "output_type": "execute_result"
    }
   ],
   "source": [
    "train_tokens[:2]"
   ]
  },
  {
   "cell_type": "markdown",
   "metadata": {},
   "source": [
    "Długości tweetów dla obu zbiorów treningowego oraz testowego w tokenach"
   ]
  },
  {
   "cell_type": "code",
   "execution_count": 48,
   "metadata": {},
   "outputs": [],
   "source": [
    "lengths = [len(tokens) for tokens in train_tokens]"
   ]
  },
  {
   "cell_type": "code",
   "execution_count": 49,
   "metadata": {},
   "outputs": [
    {
     "data": {
      "text/plain": [
       "(6, 45)"
      ]
     },
     "execution_count": 49,
     "metadata": {},
     "output_type": "execute_result"
    }
   ],
   "source": [
    "min(lengths), max(lengths)"
   ]
  },
  {
   "cell_type": "code",
   "execution_count": 50,
   "metadata": {},
   "outputs": [],
   "source": [
    "test_set = select_valid_tweets(test_data, False)"
   ]
  },
  {
   "cell_type": "code",
   "execution_count": 51,
   "metadata": {},
   "outputs": [
    {
     "data": {
      "text/plain": [
       "(3640, 2)"
      ]
     },
     "execution_count": 51,
     "metadata": {},
     "output_type": "execute_result"
    }
   ],
   "source": [
    "test_set.shape"
   ]
  },
  {
   "cell_type": "code",
   "execution_count": 52,
   "metadata": {},
   "outputs": [
    {
     "data": {
      "text/html": [
       "<div>\n",
       "<style scoped>\n",
       "    .dataframe tbody tr th:only-of-type {\n",
       "        vertical-align: middle;\n",
       "    }\n",
       "\n",
       "    .dataframe tbody tr th {\n",
       "        vertical-align: top;\n",
       "    }\n",
       "\n",
       "    .dataframe thead th {\n",
       "        text-align: right;\n",
       "    }\n",
       "</style>\n",
       "<table border=\"1\" class=\"dataframe\">\n",
       "  <thead>\n",
       "    <tr style=\"text-align: right;\">\n",
       "      <th></th>\n",
       "      <th>Id</th>\n",
       "      <th>Tweet</th>\n",
       "    </tr>\n",
       "  </thead>\n",
       "  <tbody>\n",
       "    <tr>\n",
       "      <th>0</th>\n",
       "      <td>628949369883000832</td>\n",
       "      <td>dear @Microsoft the newOoffice for Mac is great and all, but no Lync update? C'mon.</td>\n",
       "    </tr>\n",
       "    <tr>\n",
       "      <th>1</th>\n",
       "      <td>628976607420645377</td>\n",
       "      <td>@Microsoft how about you make a system that doesn't eat my friggin discs. This is the 2nd time this has happened and I am so sick of it!</td>\n",
       "    </tr>\n",
       "    <tr>\n",
       "      <th>4</th>\n",
       "      <td>629186282179153920</td>\n",
       "      <td>If I make a game as a #windows10 Universal App. Will #xboxone owners be able to download and play it in November? @majornelson @Microsoft</td>\n",
       "    </tr>\n",
       "    <tr>\n",
       "      <th>5</th>\n",
       "      <td>629226490152914944</td>\n",
       "      <td>Microsoft, I may not prefer your gaming branch of business. But, you do make a damn fine operating system. #Windows10 @Microsoft</td>\n",
       "    </tr>\n",
       "    <tr>\n",
       "      <th>6</th>\n",
       "      <td>629345637155360768</td>\n",
       "      <td>@MikeWolf1980 @Microsoft I will be downgrading and let #Windows10 be out for almost the 1st yr b4 trying it again. #Windows10fail</td>\n",
       "    </tr>\n",
       "  </tbody>\n",
       "</table>\n",
       "</div>"
      ],
      "text/plain": [
       "                   Id  \\\n",
       "0  628949369883000832   \n",
       "1  628976607420645377   \n",
       "4  629186282179153920   \n",
       "5  629226490152914944   \n",
       "6  629345637155360768   \n",
       "\n",
       "                                                                                                                                       Tweet  \n",
       "0                                                        dear @Microsoft the newOoffice for Mac is great and all, but no Lync update? C'mon.  \n",
       "1   @Microsoft how about you make a system that doesn't eat my friggin discs. This is the 2nd time this has happened and I am so sick of it!  \n",
       "4  If I make a game as a #windows10 Universal App. Will #xboxone owners be able to download and play it in November? @majornelson @Microsoft  \n",
       "5           Microsoft, I may not prefer your gaming branch of business. But, you do make a damn fine operating system. #Windows10 @Microsoft  \n",
       "6          @MikeWolf1980 @Microsoft I will be downgrading and let #Windows10 be out for almost the 1st yr b4 trying it again. #Windows10fail  "
      ]
     },
     "execution_count": 52,
     "metadata": {},
     "output_type": "execute_result"
    }
   ],
   "source": [
    "test_set.head()"
   ]
  },
  {
   "cell_type": "code",
   "execution_count": 53,
   "metadata": {},
   "outputs": [],
   "source": [
    "test_tokens = preprocess_dataset(test_set)"
   ]
  },
  {
   "cell_type": "code",
   "execution_count": 54,
   "metadata": {},
   "outputs": [],
   "source": [
    "lengths_test = [len(tokens) for tokens in test_tokens]"
   ]
  },
  {
   "cell_type": "code",
   "execution_count": 55,
   "metadata": {},
   "outputs": [
    {
     "data": {
      "text/plain": [
       "(5, 43)"
      ]
     },
     "execution_count": 55,
     "metadata": {},
     "output_type": "execute_result"
    }
   ],
   "source": [
    "min(lengths_test), max(lengths_test)"
   ]
  },
  {
   "cell_type": "markdown",
   "metadata": {},
   "source": [
    "Funkcja służąca do konwersji list tokenów na odpowiadające im zagnieżdżenia ze zbioru Glove. Sekwencja jest padowana zerami do ustalonej według zbioru długości (50), słowa nie mające zagnieżdżeń w zbiorze uzupełniane są zerami"
   ]
  },
  {
   "cell_type": "code",
   "execution_count": 56,
   "metadata": {},
   "outputs": [],
   "source": [
    "embedding_length = 200\n",
    "token_number = 50\n",
    "\n",
    "def get_padding(tweet_length,embedding_length=embedding_length, token_number= token_number):\n",
    "    padding = [np.zeros((embedding_length,), dtype=np.float32)]*(token_number - tweet_length)\n",
    "    return padding\n",
    "def get_embeddings(tokens, glove_dict, length = embedding_length):\n",
    "    result = []\n",
    "    for token in tokens:\n",
    "        embedding = glove_dict.get(token,None)\n",
    "        if embedding is not None:\n",
    "            result.append(embedding)\n",
    "        else:\n",
    "            result.append(np.zeros((length,), dtype= np.float32))\n",
    "    result.extend(get_padding(len(tokens)))\n",
    "    return np.stack(result, axis=0)"
   ]
  },
  {
   "cell_type": "code",
   "execution_count": 57,
   "metadata": {},
   "outputs": [
    {
     "data": {
      "text/plain": [
       "(50, 200)"
      ]
     },
     "execution_count": 57,
     "metadata": {},
     "output_type": "execute_result"
    }
   ],
   "source": [
    "get_embeddings(train_tokens[0], glove_dict).shape"
   ]
  },
  {
   "cell_type": "markdown",
   "metadata": {},
   "source": [
    "Wybrany model to prosty jednowarstowy LSTM, zakończony warstwą w pełni połączoną z trzema wyjściami softmax. Na wejście podawane są przygotowane wcześniej sekwencje zagnieżdżeń o kształcie (50, 200)"
   ]
  },
  {
   "cell_type": "code",
   "execution_count": 58,
   "metadata": {},
   "outputs": [
    {
     "name": "stderr",
     "output_type": "stream",
     "text": [
      "c:\\users\\a\\appdata\\local\\programs\\python\\python36\\lib\\site-packages\\tensorflow\\python\\framework\\dtypes.py:523: FutureWarning: Passing (type, 1) or '1type' as a synonym of type is deprecated; in a future version of numpy, it will be understood as (type, (1,)) / '(1,)type'.\n",
      "  _np_qint8 = np.dtype([(\"qint8\", np.int8, 1)])\n",
      "c:\\users\\a\\appdata\\local\\programs\\python\\python36\\lib\\site-packages\\tensorflow\\python\\framework\\dtypes.py:524: FutureWarning: Passing (type, 1) or '1type' as a synonym of type is deprecated; in a future version of numpy, it will be understood as (type, (1,)) / '(1,)type'.\n",
      "  _np_quint8 = np.dtype([(\"quint8\", np.uint8, 1)])\n",
      "c:\\users\\a\\appdata\\local\\programs\\python\\python36\\lib\\site-packages\\tensorflow\\python\\framework\\dtypes.py:525: FutureWarning: Passing (type, 1) or '1type' as a synonym of type is deprecated; in a future version of numpy, it will be understood as (type, (1,)) / '(1,)type'.\n",
      "  _np_qint16 = np.dtype([(\"qint16\", np.int16, 1)])\n",
      "c:\\users\\a\\appdata\\local\\programs\\python\\python36\\lib\\site-packages\\tensorflow\\python\\framework\\dtypes.py:526: FutureWarning: Passing (type, 1) or '1type' as a synonym of type is deprecated; in a future version of numpy, it will be understood as (type, (1,)) / '(1,)type'.\n",
      "  _np_quint16 = np.dtype([(\"quint16\", np.uint16, 1)])\n",
      "c:\\users\\a\\appdata\\local\\programs\\python\\python36\\lib\\site-packages\\tensorflow\\python\\framework\\dtypes.py:527: FutureWarning: Passing (type, 1) or '1type' as a synonym of type is deprecated; in a future version of numpy, it will be understood as (type, (1,)) / '(1,)type'.\n",
      "  _np_qint32 = np.dtype([(\"qint32\", np.int32, 1)])\n",
      "c:\\users\\a\\appdata\\local\\programs\\python\\python36\\lib\\site-packages\\tensorflow\\python\\framework\\dtypes.py:532: FutureWarning: Passing (type, 1) or '1type' as a synonym of type is deprecated; in a future version of numpy, it will be understood as (type, (1,)) / '(1,)type'.\n",
      "  np_resource = np.dtype([(\"resource\", np.ubyte, 1)])\n"
     ]
    }
   ],
   "source": [
    "from tensorflow.python.keras import Sequential\n",
    "from tensorflow.python.keras.layers import LSTM, Dense"
   ]
  },
  {
   "cell_type": "code",
   "execution_count": 59,
   "metadata": {},
   "outputs": [],
   "source": [
    "model = Sequential()\n",
    "model.add(LSTM(200, dropout=0.25, recurrent_dropout=0.1))\n",
    "model.add(Dense(3,activation='softmax'))"
   ]
  },
  {
   "cell_type": "code",
   "execution_count": 60,
   "metadata": {},
   "outputs": [],
   "source": [
    "model.compile(optimizer='adam', loss='categorical_crossentropy', metrics=['acc'])"
   ]
  },
  {
   "cell_type": "code",
   "execution_count": 61,
   "metadata": {},
   "outputs": [],
   "source": [
    "def encode_sentiment(sentiments, number_of_classes=3):\n",
    "    number_of_rows = len(sentiments)\n",
    "    encoding = np.zeros((number_of_rows, number_of_classes))\n",
    "    for idx, sentiment in enumerate(sentiments):\n",
    "        encoding[idx,sentiment] = 1\n",
    "    return encoding"
   ]
  },
  {
   "cell_type": "code",
   "execution_count": 62,
   "metadata": {},
   "outputs": [
    {
     "data": {
      "text/plain": [
       "array([[1., 0., 0.],\n",
       "       [0., 0., 1.],\n",
       "       [0., 1., 0.],\n",
       "       [0., 1., 0.]])"
      ]
     },
     "execution_count": 62,
     "metadata": {},
     "output_type": "execute_result"
    }
   ],
   "source": [
    "encode_sentiment([0,2,1,1])"
   ]
  },
  {
   "cell_type": "code",
   "execution_count": 63,
   "metadata": {},
   "outputs": [],
   "source": [
    "from sklearn.model_selection import train_test_split"
   ]
  },
  {
   "cell_type": "code",
   "execution_count": 64,
   "metadata": {},
   "outputs": [],
   "source": [
    "X= np.stack([get_embeddings(tweet_tokens, glove_dict) for tweet_tokens in train_tokens])\n",
    "y= encode_sentiment(train_set['Category'].replace(cat_mapping),3)"
   ]
  },
  {
   "cell_type": "code",
   "execution_count": 65,
   "metadata": {},
   "outputs": [],
   "source": [
    "X_train, X_test, y_train, y_test = train_test_split(X, y, test_size=0.2, random_state=43)"
   ]
  },
  {
   "cell_type": "code",
   "execution_count": 66,
   "metadata": {},
   "outputs": [
    {
     "data": {
      "text/plain": [
       "(5421, 50, 200)"
      ]
     },
     "execution_count": 66,
     "metadata": {},
     "output_type": "execute_result"
    }
   ],
   "source": [
    "X.shape"
   ]
  },
  {
   "cell_type": "code",
   "execution_count": 67,
   "metadata": {},
   "outputs": [
    {
     "data": {
      "text/plain": [
       "(5421, 3)"
      ]
     },
     "execution_count": 67,
     "metadata": {},
     "output_type": "execute_result"
    }
   ],
   "source": [
    "y.shape"
   ]
  },
  {
   "cell_type": "code",
   "execution_count": 68,
   "metadata": {
    "scrolled": true
   },
   "outputs": [
    {
     "name": "stdout",
     "output_type": "stream",
     "text": [
      "Train on 4336 samples, validate on 1085 samples\n",
      "Epoch 1/12\n",
      "4336/4336 [==============================] - 11s 3ms/step - loss: 0.9590 - acc: 0.5171 - val_loss: 0.9195 - val_acc: 0.5558\n",
      "Epoch 2/12\n",
      "4336/4336 [==============================] - 9s 2ms/step - loss: 0.8659 - acc: 0.5844 - val_loss: 0.8539 - val_acc: 0.5889\n",
      "Epoch 3/12\n",
      "4336/4336 [==============================] - 9s 2ms/step - loss: 0.8232 - acc: 0.5916 - val_loss: 0.8578 - val_acc: 0.5687\n",
      "Epoch 4/12\n",
      "4336/4336 [==============================] - 9s 2ms/step - loss: 0.8003 - acc: 0.6082 - val_loss: 0.8749 - val_acc: 0.5954\n",
      "Epoch 5/12\n",
      "4336/4336 [==============================] - 9s 2ms/step - loss: 0.7795 - acc: 0.6229 - val_loss: 0.8544 - val_acc: 0.5751\n",
      "Epoch 6/12\n",
      "4336/4336 [==============================] - 9s 2ms/step - loss: 0.7720 - acc: 0.6185 - val_loss: 0.8405 - val_acc: 0.5871\n",
      "Epoch 7/12\n",
      "4336/4336 [==============================] - 9s 2ms/step - loss: 0.7420 - acc: 0.6467 - val_loss: 0.8267 - val_acc: 0.5982\n",
      "Epoch 8/12\n",
      "4336/4336 [==============================] - 9s 2ms/step - loss: 0.7033 - acc: 0.6741 - val_loss: 0.8659 - val_acc: 0.5972\n",
      "Epoch 9/12\n",
      "4336/4336 [==============================] - 9s 2ms/step - loss: 0.6615 - acc: 0.6854 - val_loss: 0.8602 - val_acc: 0.5908\n",
      "Epoch 10/12\n",
      "4336/4336 [==============================] - 9s 2ms/step - loss: 0.6192 - acc: 0.7223 - val_loss: 0.9096 - val_acc: 0.5935\n",
      "Epoch 11/12\n",
      "4336/4336 [==============================] - 9s 2ms/step - loss: 0.5648 - acc: 0.7535 - val_loss: 0.9510 - val_acc: 0.6046\n",
      "Epoch 12/12\n",
      "4336/4336 [==============================] - 9s 2ms/step - loss: 0.5145 - acc: 0.7867 - val_loss: 1.0404 - val_acc: 0.5843\n"
     ]
    },
    {
     "data": {
      "text/plain": [
       "<tensorflow.python.keras.callbacks.History at 0x251d0e69128>"
      ]
     },
     "execution_count": 68,
     "metadata": {},
     "output_type": "execute_result"
    }
   ],
   "source": [
    "model.fit(X_train, y_train, epochs=12, batch_size=32,\n",
    "                    validation_data=(X_test, y_test)) "
   ]
  },
  {
   "cell_type": "code",
   "execution_count": 69,
   "metadata": {},
   "outputs": [
    {
     "name": "stdout",
     "output_type": "stream",
     "text": [
      "_________________________________________________________________\n",
      "Layer (type)                 Output Shape              Param #   \n",
      "=================================================================\n",
      "lstm (LSTM)                  multiple                  320800    \n",
      "_________________________________________________________________\n",
      "dense (Dense)                multiple                  603       \n",
      "=================================================================\n",
      "Total params: 321,403\n",
      "Trainable params: 321,403\n",
      "Non-trainable params: 0\n",
      "_________________________________________________________________\n"
     ]
    }
   ],
   "source": [
    "model.summary()"
   ]
  },
  {
   "cell_type": "markdown",
   "metadata": {},
   "source": [
    "Przykładowe wyniki na zbiorze testowym"
   ]
  },
  {
   "cell_type": "code",
   "execution_count": 70,
   "metadata": {},
   "outputs": [],
   "source": [
    "test_embeddings = np.stack([get_embeddings(test_token,glove_dict) for test_token in test_tokens])"
   ]
  },
  {
   "cell_type": "code",
   "execution_count": 71,
   "metadata": {},
   "outputs": [
    {
     "data": {
      "text/plain": [
       "[(\"dear @Microsoft the newOoffice for Mac is great and all, but no Lync update? C'mon.\",\n",
       "  array([0.06003472, 0.83567595, 0.10428938], dtype=float32)),\n",
       " (\"@Microsoft how about you make a system that doesn't eat my friggin discs. This is the 2nd time this has happened and I am so sick of it!\",\n",
       "  array([0.8435146 , 0.1477607 , 0.00872462], dtype=float32)),\n",
       " ('If I make a game as a #windows10 Universal App. Will #xboxone owners be able to download and play it in November? @majornelson @Microsoft',\n",
       "  array([0.01711331, 0.57565737, 0.40722933], dtype=float32)),\n",
       " ('Microsoft, I may not prefer your gaming branch of business. But, you do make a damn fine operating system. #Windows10 @Microsoft',\n",
       "  array([0.2511263 , 0.6548148 , 0.09405895], dtype=float32)),\n",
       " ('@MikeWolf1980 @Microsoft I will be downgrading and let #Windows10 be out for almost the 1st yr b4 trying it again. #Windows10fail',\n",
       "  array([0.1221139 , 0.74761194, 0.13027416], dtype=float32))]"
      ]
     },
     "execution_count": 71,
     "metadata": {},
     "output_type": "execute_result"
    }
   ],
   "source": [
    "list(zip(test_set['Tweet'],model.predict(test_embeddings)))[:5]"
   ]
  },
  {
   "cell_type": "markdown",
   "metadata": {},
   "source": [
    "Pipeline dla danych testowych, przetwarzanie i podstawowa predykcja odbywają się identycznie. Predykcje sprowadzane są do ostatecznych klas przy pomocy funkcji argmax. Dla brakujących tweetów dokonywana jest naiwna predykcja w postaci klasy większościowej (positive)."
   ]
  },
  {
   "cell_type": "code",
   "execution_count": 72,
   "metadata": {},
   "outputs": [],
   "source": [
    "def predict_for_NA_NaN(X_test, pred_class = 'positive'):\n",
    "    result=[]\n",
    "    for _,row in X_test.iterrows():\n",
    "        if row['Tweet'] == 'Not Available':\n",
    "            result.append((row['Id'],pred_class))\n",
    "    return pd.DataFrame(result, columns=['Id','Category'])\n",
    "\n",
    "def test_pipeline(test_raw, model):\n",
    "    missing_df = predict_for_NA_NaN(test_raw)\n",
    "    test_set = select_valid_tweets(test_raw, train=False)\n",
    "    test_tokens = preprocess_dataset(test_set)\n",
    "    \n",
    "    X_test = np.stack([get_embeddings(tweet_tokens, glove_dict) for tweet_tokens in test_tokens])\n",
    "    preds = model.predict(X_test)\n",
    "    preds_argmax = pd.Series(np.argmax(preds,axis=1))\n",
    "    test_df = pd.DataFrame(zip(test_set['Id'],preds_argmax.replace(reverse_cat_mapping)), columns=['Id','Category'])\n",
    "    submission = pd.concat([missing_df,test_df])\n",
    "    return submission"
   ]
  },
  {
   "cell_type": "code",
   "execution_count": 73,
   "metadata": {},
   "outputs": [],
   "source": [
    "sub = test_pipeline(test_data,model)"
   ]
  },
  {
   "cell_type": "code",
   "execution_count": 74,
   "metadata": {},
   "outputs": [],
   "source": [
    "sub['Id'] = sub['Id'].astype(np.int64)"
   ]
  },
  {
   "cell_type": "code",
   "execution_count": 75,
   "metadata": {},
   "outputs": [],
   "source": [
    "sub.to_csv('emotional_tweets_submission8.csv', index=False)"
   ]
  },
  {
   "cell_type": "code",
   "execution_count": null,
   "metadata": {},
   "outputs": [],
   "source": []
  }
 ],
 "metadata": {
  "kernelspec": {
   "display_name": "Python 3",
   "language": "python",
   "name": "python3"
  },
  "language_info": {
   "codemirror_mode": {
    "name": "ipython",
    "version": 3
   },
   "file_extension": ".py",
   "mimetype": "text/x-python",
   "name": "python",
   "nbconvert_exporter": "python",
   "pygments_lexer": "ipython3",
   "version": "3.6.7"
  }
 },
 "nbformat": 4,
 "nbformat_minor": 2
}
